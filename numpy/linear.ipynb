{
 "cells": [
  {
   "cell_type": "code",
   "execution_count": 1,
   "metadata": {
    "collapsed": true
   },
   "outputs": [],
   "source": [
    "import numpy as np"
   ]
  },
  {
   "cell_type": "code",
   "execution_count": 2,
   "metadata": {
    "collapsed": true
   },
   "outputs": [],
   "source": [
    "x = np.array([[1, 2, 3], [4, 5, 6]])"
   ]
  },
  {
   "cell_type": "code",
   "execution_count": 3,
   "metadata": {
    "collapsed": true
   },
   "outputs": [],
   "source": [
    "y = np.array([[6, 23], [-1, 7], [8, 9]])"
   ]
  },
  {
   "cell_type": "code",
   "execution_count": 4,
   "metadata": {},
   "outputs": [
    {
     "data": {
      "text/plain": [
       "array([[1, 2, 3],\n",
       "       [4, 5, 6]])"
      ]
     },
     "execution_count": 4,
     "metadata": {},
     "output_type": "execute_result"
    }
   ],
   "source": [
    "x"
   ]
  },
  {
   "cell_type": "code",
   "execution_count": 5,
   "metadata": {},
   "outputs": [
    {
     "data": {
      "text/plain": [
       "array([[ 6, 23],\n",
       "       [-1,  7],\n",
       "       [ 8,  9]])"
      ]
     },
     "execution_count": 5,
     "metadata": {},
     "output_type": "execute_result"
    }
   ],
   "source": [
    "y"
   ]
  },
  {
   "cell_type": "code",
   "execution_count": 6,
   "metadata": {},
   "outputs": [
    {
     "data": {
      "text/plain": [
       "array([[ 28,  64],\n",
       "       [ 67, 181]])"
      ]
     },
     "execution_count": 6,
     "metadata": {},
     "output_type": "execute_result"
    }
   ],
   "source": [
    "np.dot(x, y)"
   ]
  },
  {
   "cell_type": "code",
   "execution_count": 7,
   "metadata": {
    "collapsed": true
   },
   "outputs": [],
   "source": [
    "import numpy.linalg as lg"
   ]
  },
  {
   "cell_type": "code",
   "execution_count": 8,
   "metadata": {
    "collapsed": true
   },
   "outputs": [],
   "source": [
    "X = np.random.randn(5, 5)"
   ]
  },
  {
   "cell_type": "code",
   "execution_count": 9,
   "metadata": {},
   "outputs": [
    {
     "data": {
      "text/plain": [
       "array([[ 0.3598073 , -1.56549139,  0.14969773,  0.73893513, -0.20078384],\n",
       "       [-0.75469088,  0.37564209,  0.61808181,  0.82919012, -0.19304834],\n",
       "       [ 1.27862907,  0.05113217,  0.19854794,  1.35530979, -0.47478688],\n",
       "       [ 0.94951898,  0.25758402, -0.90991471,  0.80668488,  0.67605914],\n",
       "       [ 0.62754448, -0.06289589,  2.2011317 ,  0.05951003, -2.39766307]])"
      ]
     },
     "execution_count": 9,
     "metadata": {},
     "output_type": "execute_result"
    }
   ],
   "source": [
    "X"
   ]
  },
  {
   "cell_type": "code",
   "execution_count": 10,
   "metadata": {},
   "outputs": [
    {
     "data": {
      "text/plain": [
       "array([[  5.02595775,   6.33070553, -24.4890881 ,  29.13771704,\n",
       "         12.13458834],\n",
       "       [ -0.84392561,  -0.20159189,   1.43035468,  -1.37968928,  -0.5853623 ],\n",
       "       [ 13.46230325,  18.16035965, -65.07924236,  76.00030904,  31.7269906 ],\n",
       "       [ -1.90038604,  -2.22196163,  10.22207086, -11.54517022,\n",
       "         -4.94148252],\n",
       "       [ 13.64924969,  18.2788789 , -65.93821503,  77.14663021,\n",
       "         31.77803784]])"
      ]
     },
     "execution_count": 10,
     "metadata": {},
     "output_type": "execute_result"
    }
   ],
   "source": [
    "lg.inv(X)"
   ]
  },
  {
   "cell_type": "code",
   "execution_count": 11,
   "metadata": {
    "collapsed": true
   },
   "outputs": [],
   "source": [
    "X = np.floor(X)"
   ]
  },
  {
   "cell_type": "code",
   "execution_count": 12,
   "metadata": {},
   "outputs": [
    {
     "data": {
      "text/plain": [
       "array([[ 0., -2.,  0.,  0., -1.],\n",
       "       [-1.,  0.,  0.,  0., -1.],\n",
       "       [ 1.,  0.,  0.,  1., -1.],\n",
       "       [ 0.,  0., -1.,  0.,  0.],\n",
       "       [ 0., -1.,  2.,  0., -3.]])"
      ]
     },
     "execution_count": 12,
     "metadata": {},
     "output_type": "execute_result"
    }
   ],
   "source": [
    "X"
   ]
  },
  {
   "cell_type": "code",
   "execution_count": 15,
   "metadata": {},
   "outputs": [
    {
     "data": {
      "text/plain": [
       "(array([[-0.37559951,  0.89053852,  0.07786571,  0.14373381, -0.19784761],\n",
       "        [-0.191181  , -0.01438144, -0.43901687, -0.76504418, -0.43036566],\n",
       "        [-0.20415867, -0.17822367,  0.87409308, -0.28927955, -0.28077426],\n",
       "        [ 0.10487067,  0.28936126,  0.14813069, -0.54670392,  0.76448959],\n",
       "        [-0.87732332, -0.30206077, -0.12336815,  0.10714554,  0.33520622]]),\n",
       " array([ 4.21088228,  1.75720693,  1.63268684,  1.17981743,  0.35079734]),\n",
       " array([[-0.00308194,  0.38674136, -0.44159803, -0.04848359,  0.8081226 ],\n",
       "        [-0.09324014, -0.84168588, -0.50846761, -0.10142441,  0.11851132],\n",
       "        [ 0.8042632 , -0.01982209, -0.24185103,  0.53537093, -0.08748614],\n",
       "        [ 0.40325275, -0.33446968,  0.64501081, -0.2451901 ,  0.49935971],\n",
       "        [ 0.42643253,  0.17243291, -0.26818092, -0.80038879, -0.2754614 ]]))"
      ]
     },
     "execution_count": 15,
     "metadata": {},
     "output_type": "execute_result"
    }
   ],
   "source": [
    "lg.svd(X)"
   ]
  },
  {
   "cell_type": "code",
   "execution_count": 16,
   "metadata": {},
   "outputs": [
    {
     "data": {
      "text/plain": [
       "array([ 0.,  0.,  0.,  0., -3.])"
      ]
     },
     "execution_count": 16,
     "metadata": {},
     "output_type": "execute_result"
    }
   ],
   "source": [
    "np.diag(X)"
   ]
  },
  {
   "cell_type": "code",
   "execution_count": null,
   "metadata": {
    "collapsed": true
   },
   "outputs": [],
   "source": []
  }
 ],
 "metadata": {
  "kernelspec": {
   "display_name": "Python 3",
   "language": "python",
   "name": "python3"
  },
  "language_info": {
   "codemirror_mode": {
    "name": "ipython",
    "version": 3
   },
   "file_extension": ".py",
   "mimetype": "text/x-python",
   "name": "python",
   "nbconvert_exporter": "python",
   "pygments_lexer": "ipython3",
   "version": "3.6.1"
  }
 },
 "nbformat": 4,
 "nbformat_minor": 2
}
