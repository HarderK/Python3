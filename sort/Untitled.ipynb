{
 "cells": [
  {
   "cell_type": "code",
   "execution_count": 5,
   "metadata": {
    "collapsed": true
   },
   "outputs": [],
   "source": [
    "# %load quicksort.py\n",
    "def quicksort(li, low=0, high=-1):\n",
    "    i = low\n",
    "    high = high if high > 0 else len(li) + high\n",
    "    j = high\n",
    "    temp = li[low]\n",
    "    while i < j:\n",
    "        while i < j and li[j]  > temp:\n",
    "            j -= 1\n",
    "        if i < j:\n",
    "            li[i] = li[j]\n",
    "            i += 1\n",
    "        while i < j and li[i] < temp:\n",
    "            i += 1\n",
    "        if i < j:\n",
    "            li[j] = li[i]\n",
    "    li[i] = temp\n",
    "    print(li)\n",
    "    if low < i-1: quicksort(li, low, i-1)\n",
    "    if j+1 < high: quicksort(li, j+1, high)\n",
    "\n",
    "\n"
   ]
  },
  {
   "cell_type": "code",
   "execution_count": 6,
   "metadata": {},
   "outputs": [],
   "source": [
    "li = [4, 5, 6, 2, 2, 3, 1]"
   ]
  },
  {
   "cell_type": "code",
   "execution_count": 7,
   "metadata": {},
   "outputs": [
    {
     "name": "stdout",
     "output_type": "stream",
     "text": [
      "[1, 3, 2, 2, 4, 6, 5]\n",
      "[1, 3, 2, 2, 4, 6, 5]\n",
      "[1, 2, 2, 3, 4, 6, 5]\n",
      "[1, 2, 2, 3, 4, 6, 5]\n",
      "[1, 2, 2, 3, 4, 5, 6]\n"
     ]
    }
   ],
   "source": [
    "quicksort(li)"
   ]
  },
  {
   "cell_type": "code",
   "execution_count": 4,
   "metadata": {},
   "outputs": [
    {
     "data": {
      "text/plain": [
       "[2, 2, 5, 6, 4, 5, 6]"
      ]
     },
     "execution_count": 4,
     "metadata": {},
     "output_type": "execute_result"
    }
   ],
   "source": [
    "li"
   ]
  },
  {
   "cell_type": "code",
   "execution_count": 19,
   "metadata": {},
   "outputs": [],
   "source": [
    "# %load bubblesort.py\n",
    "def bubblesort(li):\n",
    "    length = len(li)\n",
    "    temp = None; flag = 1\n",
    "    i = 1\n",
    "    while i < length and flag == 1:\n",
    "        flag = 0\n",
    "        for j in range(length - i):\n",
    "            if li[j] > li[j+1]:\n",
    "                temp = li[j+1]\n",
    "                li[j+1] = li[j]\n",
    "                li[j] = temp\n",
    "                flag = 1\n",
    "        print(li)\n",
    "    return li\n",
    "\n",
    "\n"
   ]
  },
  {
   "cell_type": "code",
   "execution_count": 20,
   "metadata": {},
   "outputs": [],
   "source": [
    "li = [4, 5, 6, 2, 2, 3, 1]"
   ]
  },
  {
   "cell_type": "code",
   "execution_count": 21,
   "metadata": {},
   "outputs": [
    {
     "name": "stdout",
     "output_type": "stream",
     "text": [
      "[4, 5, 2, 2, 3, 1, 6]\n",
      "[4, 2, 2, 3, 1, 5, 6]\n",
      "[2, 2, 3, 1, 4, 5, 6]\n",
      "[2, 2, 1, 3, 4, 5, 6]\n",
      "[2, 1, 2, 3, 4, 5, 6]\n",
      "[1, 2, 2, 3, 4, 5, 6]\n",
      "[1, 2, 2, 3, 4, 5, 6]\n"
     ]
    },
    {
     "data": {
      "text/plain": [
       "[1, 2, 2, 3, 4, 5, 6]"
      ]
     },
     "execution_count": 21,
     "metadata": {},
     "output_type": "execute_result"
    }
   ],
   "source": [
    "bubblesort(li)"
   ]
  },
  {
   "cell_type": "code",
   "execution_count": null,
   "metadata": {
    "collapsed": true
   },
   "outputs": [],
   "source": []
  }
 ],
 "metadata": {
  "kernelspec": {
   "display_name": "Python 3",
   "language": "python",
   "name": "python3"
  },
  "language_info": {
   "codemirror_mode": {
    "name": "ipython",
    "version": 3
   },
   "file_extension": ".py",
   "mimetype": "text/x-python",
   "name": "python",
   "nbconvert_exporter": "python",
   "pygments_lexer": "ipython3",
   "version": "3.6.1"
  }
 },
 "nbformat": 4,
 "nbformat_minor": 2
}
