{
 "cells": [
  {
   "cell_type": "code",
   "execution_count": null,
   "metadata": {
    "collapsed": true
   },
   "outputs": [],
   "source": [
    "import os"
   ]
  },
  {
   "cell_type": "code",
   "execution_count": null,
   "metadata": {
    "collapsed": true
   },
   "outputs": [],
   "source": [
    "import sys"
   ]
  },
  {
   "cell_type": "code",
   "execution_count": null,
   "metadata": {},
   "outputs": [],
   "source": [
    "data_folder = 'D:\\\\Python3\\\\dataMining\\\\chapter9\\\\data\\\\books'"
   ]
  },
  {
   "cell_type": "code",
   "execution_count": 16,
   "metadata": {},
   "outputs": [
    {
     "name": "stdout",
     "output_type": "stream",
     "text": [
      "Downloading titles from burton\n",
      " - Getting book with id 2400\n",
      "2400\n",
      " - http://www.gutenberg.org/files/2400/2400.txt\n"
     ]
    },
    {
     "ename": "KeyboardInterrupt",
     "evalue": "",
     "output_type": "error",
     "traceback": [
      "\u001b[1;31m---------------------------------------------------------------------------\u001b[0m",
      "\u001b[1;31mKeyboardInterrupt\u001b[0m                         Traceback (most recent call last)",
      "\u001b[1;32m<ipython-input-16-708c86dd7a93>\u001b[0m in \u001b[0;36m<module>\u001b[1;34m()\u001b[0m\n\u001b[0;32m     87\u001b[0m         \u001b[1;32melse\u001b[0m\u001b[1;33m:\u001b[0m\u001b[1;33m\u001b[0m\u001b[0m\n\u001b[0;32m     88\u001b[0m             \u001b[0murllib\u001b[0m\u001b[1;33m.\u001b[0m\u001b[0mrequest\u001b[0m\u001b[1;33m.\u001b[0m\u001b[0murlretrieve\u001b[0m\u001b[1;33m(\u001b[0m\u001b[0murl\u001b[0m\u001b[1;33m,\u001b[0m \u001b[0mfilename\u001b[0m\u001b[1;33m)\u001b[0m\u001b[1;33m\u001b[0m\u001b[0m\n\u001b[1;32m---> 89\u001b[1;33m             \u001b[0msleep\u001b[0m\u001b[1;33m(\u001b[0m\u001b[1;36m60\u001b[0m\u001b[1;33m*\u001b[0m\u001b[1;36m5\u001b[0m\u001b[1;33m)\u001b[0m\u001b[1;33m\u001b[0m\u001b[0m\n\u001b[0m\u001b[0;32m     90\u001b[0m \u001b[0mprint\u001b[0m\u001b[1;33m(\u001b[0m\u001b[1;34m\"Download complete\"\u001b[0m\u001b[1;33m)\u001b[0m\u001b[1;33m\u001b[0m\u001b[0m\n",
      "\u001b[1;31mKeyboardInterrupt\u001b[0m: "
     ]
    }
   ],
   "source": [
    "# %load getdata.py\n",
    "# Downloads the books and stores them in the below folder\n",
    "import os\n",
    "from time import sleep\n",
    "import urllib.request\n",
    "\n",
    "titles = {}\n",
    "\n",
    "\n",
    "titles['burton'] = [2400, 5760, 6036, 7111, 8821,\n",
    "                    18506, 4658, 5761, 6886, 7113]\n",
    "titles['dickens'] = [24022, 1392, 1414, 2324, 580,\n",
    "                     786, 888, 963, 27924, 1394, 1415, 15618,\n",
    "                     25985, 588, 807, 914, 967, 30127, 1400,\n",
    "                     1421, 16023, 28198, 644, 809, 917, 968, 1023,\n",
    "                     1406, 1422, 17879, 30368, 675, 810, 924, 98,\n",
    "                     1289, 1413, 1423, 17880, 32241, 699, 821, 927]\n",
    "titles['doyle'] = [2349, 11656, 1644, 22357, 2347, 290, 34627, 5148,\n",
    "                   8394, 26153, 12555, 1661, 23059, 2348, 294, 355,\n",
    "                   5260, 8727, 10446, 126, 17398, 2343, 2350, 3070,\n",
    "                   356, 5317, 903, 10581, 13152, 2038, 2344, 244, 32536,\n",
    "                   423, 537, 108, 139, 2097, 2345, 24951, 32777, 4295,\n",
    "                   7964, 11413, 1638, 21768, 2346, 2845, 3289, 439, 834]\n",
    "titles['gaboriau'] = [1748, 1651, 2736, 3336, 4604, 4002, 2451,\n",
    "                      305, 3802, 547]\n",
    "titles['nesbit'] = [34219, 23661, 28804, 4378, 778, 20404, 28725,\n",
    "                    33028, 4513, 794]\n",
    "titles['tarkington'] = [1098, 15855, 1983, 297, 402, 5798,\n",
    "                        8740, 980, 1158, 1611, 2326, 30092,\n",
    "                        483, 5949, 8867, 13275, 18259, 2595,\n",
    "                        3428, 5756, 6401, 9659]\n",
    "titles['twain'] = [1044, 1213, 245, 30092, 3176, 3179, 3183, 3189, 74,\n",
    "                   86, 1086, 142, 2572, 3173, 3177, 3180, 3186, 3192,\n",
    "                   76, 91, 119, 1837, 2895, 3174, 3178, 3181, 3187, 3432,\n",
    "                   8525]\n",
    "\n",
    "\n",
    "\n",
    "assert len(titles) == 7\n",
    "\n",
    "assert len(titles['tarkington']) == 22\n",
    "assert len(titles['dickens']) == 43\n",
    "assert len(titles['nesbit']) == 10\n",
    "assert len(titles['doyle']) == 51\n",
    "assert len(titles['twain']) == 29\n",
    "assert len(titles['burton']) == 10\n",
    "assert len(titles['gaboriau']) == 10\n",
    "\n",
    "\n",
    "# https://www.gutenberg.org\n",
    "#url_base = \"http://gutenberg.pglaf.org/\"\n",
    "#url_base = \"http://gutenberg.readingroo.ms/\"\n",
    "# url_base = \"http://www.gutenberg.myebook.bg/\"\n",
    "url_base = \"http://www.gutenberg.org/files/\"\n",
    "url_format = \"{url_base}{id}/{id}.txt\"\n",
    "\n",
    "fixes = {}\n",
    "fixes[1044] = url_base + \"1044/1044-0.txt\"\n",
    "fixes[5148] = url_base + \"5148/5148-0.txt\"\n",
    "fixes[4657] = \"https://archive.org/stream/personalnarrativ04657gut/pnpa110.txt\"\n",
    "fixes[1467] = \"https://archive.org/stream/somechristmassto01467gut/cdscs10p_djvu.txt\"\n",
    "\n",
    "# Make parent folder if not exists\n",
    "if not os.path.exists(data_folder):\n",
    "    os.makedirs(data_folder)\n",
    "\n",
    "for author in titles:\n",
    "    print(\"Downloading titles from {author}\".format(author=author))\n",
    "    # Make author's folder if not exists\n",
    "    author_folder = os.path.join(data_folder, author)\n",
    "    if not os.path.exists(author_folder):\n",
    "        os.makedirs(author_folder)\n",
    "    # Download each title to this folder\n",
    "    for bookid in titles[author]:\n",
    "        if bookid in fixes:\n",
    "            print(\" - Applying fix to book with id {id}\".format(id=bookid))\n",
    "            url =  fixes[bookid]\n",
    "        else:\n",
    "            print(\" - Getting book with id {id}\".format(id=bookid))\n",
    "            # idstring = \"/\".join([str(bookid)[i] for i in range(len(str(bookid))-1)])\n",
    "            print(bookid)\n",
    "            url = url_format.format(url_base=url_base, id=bookid)\n",
    "        print(\" - \" + url)\n",
    "        filename = os.path.join(author_folder, \"{id}.txt\".format(id=bookid))\n",
    "        if os.path.exists(filename):\n",
    "            print(\" - File already exists, skipping\")\n",
    "        else:\n",
    "            urllib.request.urlretrieve(url, filename)\n",
    "            sleep(60*5)\n",
    "print(\"Download complete\")\n"
   ]
  },
  {
   "cell_type": "code",
   "execution_count": 26,
   "metadata": {
    "collapsed": true
   },
   "outputs": [],
   "source": [
    "def clean_book(document):\n",
    "    lines = document.split('\\n')\n",
    "    start = 0\n",
    "    end = len(lines)\n",
    "    for i in range(len(lines)):\n",
    "        line = lines[i]\n",
    "        if line.strip().startswith('*** START OF THIS PROJECT GUTENBER'):\n",
    "            start = i + 1\n",
    "        elif line.strip().startswith('*** END OF THIS PROJECT GUTENBER'):\n",
    "            end = i - 1\n",
    "    return '\\n'.join(lines[start:end])"
   ]
  },
  {
   "cell_type": "code",
   "execution_count": 27,
   "metadata": {
    "collapsed": true
   },
   "outputs": [],
   "source": [
    "import numpy as np"
   ]
  },
  {
   "cell_type": "code",
   "execution_count": 29,
   "metadata": {},
   "outputs": [],
   "source": [
    "def load_books_data(folder=data_folder):\n",
    "    document = []\n",
    "    authors = []\n",
    "    subfolders = [subfolder for subfolder in os.listdir(folder) if os.path.isdir(os.path.join(folder, subfolder))]\n",
    "    for author_number, subfolder in enumerate(subfolders):\n",
    "        full_subfolder_path = os.path.join(folder, subfolder)\n",
    "        for document_name in os.listdir(full_subfolder_path):\n",
    "            with open(os.path.join(full_subfolder_path, document_name)) as inf:\n",
    "                documents.append(clean_book(inf.read()))\n",
    "                authors.append(author_number)\n",
    "    return documents, np.array(authors, dtype='int')"
   ]
  },
  {
   "cell_type": "code",
   "execution_count": 30,
   "metadata": {
    "collapsed": true
   },
   "outputs": [],
   "source": [
    "function_words = [\"a\", \"able\", \"aboard\", \"about\", \"above\", \"absent\",\n",
    "                  \"according\" , \"accordingly\", \"across\", \"after\", \"against\",\n",
    "                  \"ahead\", \"albeit\", \"all\", \"along\", \"alongside\", \"although\",\n",
    "                  \"am\", \"amid\", \"amidst\", \"among\", \"amongst\", \"amount\", \"an\",\n",
    "                    \"and\", \"another\", \"anti\", \"any\", \"anybody\", \"anyone\",\n",
    "                    \"anything\", \"are\", \"around\", \"as\", \"aside\", \"astraddle\",\n",
    "                    \"astride\", \"at\", \"away\", \"bar\", \"barring\", \"be\", \"because\",\n",
    "                    \"been\", \"before\", \"behind\", \"being\", \"below\", \"beneath\",\n",
    "                    \"beside\", \"besides\", \"better\", \"between\", \"beyond\", \"bit\",\n",
    "                    \"both\", \"but\", \"by\", \"can\", \"certain\", \"circa\", \"close\",\n",
    "                    \"concerning\", \"consequently\", \"considering\", \"could\",\n",
    "                    \"couple\", \"dare\", \"deal\", \"despite\", \"down\", \"due\", \"during\",\n",
    "                    \"each\", \"eight\", \"eighth\", \"either\", \"enough\", \"every\",\n",
    "                    \"everybody\", \"everyone\", \"everything\", \"except\", \"excepting\",\n",
    "                    \"excluding\", \"failing\", \"few\", \"fewer\", \"fifth\", \"first\",\n",
    "                    \"five\", \"following\", \"for\", \"four\", \"fourth\", \"from\", \"front\",\n",
    "                    \"given\", \"good\", \"great\", \"had\", \"half\", \"have\", \"he\",\n",
    "                    \"heaps\", \"hence\", \"her\", \"hers\", \"herself\", \"him\", \"himself\",\n",
    "                    \"his\", \"however\", \"i\", \"if\", \"in\", \"including\", \"inside\",\n",
    "                    \"instead\", \"into\", \"is\", \"it\", \"its\", \"itself\", \"keeping\",\n",
    "                    \"lack\", \"less\", \"like\", \"little\", \"loads\", \"lots\", \"majority\",\n",
    "                    \"many\", \"masses\", \"may\", \"me\", \"might\", \"mine\", \"minority\",\n",
    "                    \"minus\", \"more\", \"most\", \"much\", \"must\", \"my\", \"myself\",\n",
    "                    \"near\", \"need\", \"neither\", \"nevertheless\", \"next\", \"nine\",\n",
    "                    \"ninth\", \"no\", \"nobody\", \"none\", \"nor\", \"nothing\",\n",
    "                    \"notwithstanding\", \"number\", \"numbers\", \"of\", \"off\", \"on\",\n",
    "                    \"once\", \"one\", \"onto\", \"opposite\", \"or\", \"other\", \"ought\",\n",
    "                    \"our\", \"ours\", \"ourselves\", \"out\", \"outside\", \"over\", \"part\",\n",
    "                    \"past\", \"pending\", \"per\", \"pertaining\", \"place\", \"plenty\",\n",
    "                    \"plethora\", \"plus\", \"quantities\", \"quantity\", \"quarter\",\n",
    "                    \"regarding\", \"remainder\", \"respecting\", \"rest\", \"round\",\n",
    "                    \"save\", \"saving\", \"second\", \"seven\", \"seventh\", \"several\",\n",
    "                    \"shall\", \"she\", \"should\", \"similar\", \"since\", \"six\", \"sixth\",\n",
    "                    \"so\", \"some\", \"somebody\", \"someone\", \"something\", \"spite\",\n",
    "                    \"such\", \"ten\", \"tenth\", \"than\", \"thanks\", \"that\", \"the\",\n",
    "                    \"their\", \"theirs\", \"them\", \"themselves\", \"then\", \"thence\",\n",
    "                  \"therefore\", \"these\", \"they\", \"third\", \"this\", \"those\",\n",
    "\"though\", \"three\", \"through\", \"throughout\", \"thru\", \"thus\",\n",
    "\"till\", \"time\", \"to\", \"tons\", \"top\", \"toward\", \"towards\",\n",
    "\"two\", \"under\", \"underneath\", \"unless\", \"unlike\", \"until\",\n",
    "\"unto\", \"up\", \"upon\", \"us\", \"used\", \"various\", \"versus\",\n",
    "\"via\", \"view\", \"wanting\", \"was\", \"we\", \"were\", \"what\",\n",
    "\"whatever\", \"when\", \"whenever\", \"where\", \"whereas\",\n",
    "\"wherever\", \"whether\", \"which\", \"whichever\", \"while\",\n",
    "                  \"whilst\", \"who\", \"whoever\", \"whole\", \"whom\", \"whomever\",\n",
    "\"whose\", \"will\", \"with\", \"within\", \"without\", \"would\", \"yet\",\n",
    "\"you\", \"your\", \"yours\", \"yourself\", \"yourselves\"]"
   ]
  },
  {
   "cell_type": "code",
   "execution_count": 31,
   "metadata": {
    "collapsed": true
   },
   "outputs": [],
   "source": [
    "from sklearn.svm import SVC"
   ]
  },
  {
   "cell_type": "code",
   "execution_count": 32,
   "metadata": {
    "collapsed": true
   },
   "outputs": [],
   "source": [
    "from sklearn.model_selection import cross_val_score"
   ]
  },
  {
   "cell_type": "code",
   "execution_count": 33,
   "metadata": {
    "collapsed": true
   },
   "outputs": [],
   "source": [
    "from sklearn.pipeline import Pipeline"
   ]
  },
  {
   "cell_type": "code",
   "execution_count": 41,
   "metadata": {},
   "outputs": [],
   "source": [
    "from sklearn.model_selection import GridSearchCV"
   ]
  },
  {
   "cell_type": "code",
   "execution_count": 42,
   "metadata": {
    "collapsed": true
   },
   "outputs": [],
   "source": [
    "parameters = {'kernel': ('linear', 'rbf'), 'C': [1, 10]}"
   ]
  },
  {
   "cell_type": "code",
   "execution_count": 43,
   "metadata": {
    "collapsed": true
   },
   "outputs": [],
   "source": [
    "svr = SVC()"
   ]
  },
  {
   "cell_type": "code",
   "execution_count": 44,
   "metadata": {
    "collapsed": true
   },
   "outputs": [],
   "source": [
    "grid = GridSearchCV(svr, parameters)"
   ]
  },
  {
   "cell_type": "code",
   "execution_count": 46,
   "metadata": {
    "collapsed": true
   },
   "outputs": [],
   "source": [
    "from sklearn.feature_extraction.text import CountVectorizer"
   ]
  },
  {
   "cell_type": "code",
   "execution_count": 47,
   "metadata": {
    "collapsed": true
   },
   "outputs": [],
   "source": [
    "extractor = CountVectorizer(vocabulary=function_words)"
   ]
  },
  {
   "cell_type": "code",
   "execution_count": 48,
   "metadata": {
    "collapsed": true
   },
   "outputs": [],
   "source": [
    "pipeline1 = Pipeline([('feature_extraction', extractor),\n",
    "                      ('clf', grid)])"
   ]
  },
  {
   "cell_type": "code",
   "execution_count": 49,
   "metadata": {},
   "outputs": [
    {
     "data": {
      "text/plain": [
       "'Automatically created module for IPython interactive environment'"
      ]
     },
     "execution_count": 49,
     "metadata": {},
     "output_type": "execute_result"
    }
   ],
   "source": [
    "__doc__"
   ]
  },
  {
   "cell_type": "code",
   "execution_count": null,
   "metadata": {
    "collapsed": true
   },
   "outputs": [],
   "source": []
  }
 ],
 "metadata": {
  "kernelspec": {
   "display_name": "Python 3",
   "language": "python",
   "name": "python3"
  },
  "language_info": {
   "codemirror_mode": {
    "name": "ipython",
    "version": 3
   },
   "file_extension": ".py",
   "mimetype": "text/x-python",
   "name": "python",
   "nbconvert_exporter": "python",
   "pygments_lexer": "ipython3",
   "version": "3.6.1"
  }
 },
 "nbformat": 4,
 "nbformat_minor": 2
}
