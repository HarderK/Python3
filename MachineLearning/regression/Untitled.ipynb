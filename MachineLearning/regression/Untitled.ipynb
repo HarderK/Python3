{
 "cells": [
  {
   "cell_type": "code",
   "execution_count": 1,
   "metadata": {
    "collapsed": true
   },
   "outputs": [],
   "source": [
    "%run regression.py"
   ]
  },
  {
   "cell_type": "code",
   "execution_count": 2,
   "metadata": {
    "collapsed": true
   },
   "outputs": [],
   "source": [
    "xArr, yArr = loadDataSet('ex0.txt')"
   ]
  },
  {
   "cell_type": "code",
   "execution_count": 4,
   "metadata": {
    "collapsed": true
   },
   "outputs": [],
   "source": [
    "ws = standRegres(xArr, yArr)"
   ]
  },
  {
   "cell_type": "code",
   "execution_count": 5,
   "metadata": {},
   "outputs": [
    {
     "data": {
      "text/plain": [
       "matrix([[ 3.00774324],\n",
       "        [ 1.69532264]])"
      ]
     },
     "execution_count": 5,
     "metadata": {},
     "output_type": "execute_result"
    }
   ],
   "source": [
    "ws"
   ]
  },
  {
   "cell_type": "code",
   "execution_count": 6,
   "metadata": {
    "collapsed": true
   },
   "outputs": [],
   "source": [
    "xMat = np.mat(xArr)"
   ]
  },
  {
   "cell_type": "code",
   "execution_count": 8,
   "metadata": {},
   "outputs": [],
   "source": [
    "yMat = np.mat(yArr)"
   ]
  },
  {
   "cell_type": "code",
   "execution_count": 9,
   "metadata": {
    "collapsed": true
   },
   "outputs": [],
   "source": [
    "yHat = xMat * ws"
   ]
  },
  {
   "cell_type": "code",
   "execution_count": 10,
   "metadata": {
    "collapsed": true
   },
   "outputs": [],
   "source": [
    "import matplotlib.pyplot as plt"
   ]
  },
  {
   "cell_type": "code",
   "execution_count": 11,
   "metadata": {
    "collapsed": true
   },
   "outputs": [],
   "source": [
    "fig = plt.figure()"
   ]
  },
  {
   "cell_type": "code",
   "execution_count": 12,
   "metadata": {
    "collapsed": true
   },
   "outputs": [],
   "source": [
    "ax = fig.add_subplot(111)"
   ]
  },
  {
   "cell_type": "code",
   "execution_count": 13,
   "metadata": {},
   "outputs": [
    {
     "data": {
      "text/plain": [
       "<matplotlib.collections.PathCollection at 0x109707c18>"
      ]
     },
     "execution_count": 13,
     "metadata": {},
     "output_type": "execute_result"
    }
   ],
   "source": [
    "ax.scatter(xMat[:, 1].flatten().A[0], yMat.T[:, 0].flatten().A[0])"
   ]
  },
  {
   "cell_type": "code",
   "execution_count": 14,
   "metadata": {},
   "outputs": [
    {
     "data": {
      "image/png": "[encoded data removed]",
      "text/plain": [
       "<matplotlib.figure.Figure at 0x1093b75f8>"
      ]
     },
     "execution_count": 14,
     "metadata": {},
     "output_type": "execute_result"
    }
   ],
   "source": [
    "fig"
   ]
  },
  {
   "cell_type": "code",
   "execution_count": 15,
   "metadata": {
    "collapsed": true
   },
   "outputs": [],
   "source": [
    "xCopy = xMat.copy()"
   ]
  },
  {
   "cell_type": "code",
   "execution_count": 16,
   "metadata": {
    "collapsed": true
   },
   "outputs": [],
   "source": [
    "xCopy.sort(0)"
   ]
  },
  {
   "cell_type": "code",
   "execution_count": 17,
   "metadata": {},
   "outputs": [
    {
     "data": {
      "text/plain": [
       "matrix([[ 1.      ,  0.014855],\n",
       "        [ 1.      ,  0.015371],\n",
       "        [ 1.      ,  0.033859],\n",
       "        [ 1.      ,  0.038326],\n",
       "        [ 1.      ,  0.040486],\n",
       "        [ 1.      ,  0.045353],\n",
       "        [ 1.      ,  0.047744],\n",
       "        [ 1.      ,  0.058014],\n",
       "        [ 1.      ,  0.066379],\n",
       "        [ 1.      ,  0.067119],\n",
       "        [ 1.      ,  0.067154],\n",
       "        [ 1.      ,  0.067732],\n",
       "        [ 1.      ,  0.068854],\n",
       "        [ 1.      ,  0.070095],\n",
       "        [ 1.      ,  0.070237],\n",
       "        [ 1.      ,  0.073224],\n",
       "        [ 1.      ,  0.085031],\n",
       "        [ 1.      ,  0.106352],\n",
       "        [ 1.      ,  0.110521],\n",
       "        [ 1.      ,  0.115487],\n",
       "        [ 1.      ,  0.116089],\n",
       "        [ 1.      ,  0.116163],\n",
       "        [ 1.      ,  0.116598],\n",
       "        [ 1.      ,  0.124931],\n",
       "        [ 1.      ,  0.126762],\n",
       "        [ 1.      ,  0.132791],\n",
       "        [ 1.      ,  0.133295],\n",
       "        [ 1.      ,  0.138306],\n",
       "        [ 1.      ,  0.147846],\n",
       "        [ 1.      ,  0.148364],\n",
       "        [ 1.      ,  0.15335 ],\n",
       "        [ 1.      ,  0.156383],\n",
       "        [ 1.      ,  0.156433],\n",
       "        [ 1.      ,  0.162176],\n",
       "        [ 1.      ,  0.166819],\n",
       "        [ 1.      ,  0.171846],\n",
       "        [ 1.      ,  0.175724],\n",
       "        [ 1.      ,  0.178449],\n",
       "        [ 1.      ,  0.181951],\n",
       "        [ 1.      ,  0.182026],\n",
       "        [ 1.      ,  0.189912],\n",
       "        [ 1.      ,  0.19683 ],\n",
       "        [ 1.      ,  0.199526],\n",
       "        [ 1.      ,  0.201473],\n",
       "        [ 1.      ,  0.204337],\n",
       "        [ 1.      ,  0.212575],\n",
       "        [ 1.      ,  0.218023],\n",
       "        [ 1.      ,  0.223855],\n",
       "        [ 1.      ,  0.230372],\n",
       "        [ 1.      ,  0.231214],\n",
       "        [ 1.      ,  0.235419],\n",
       "        [ 1.      ,  0.236833],\n",
       "        [ 1.      ,  0.247809],\n",
       "        [ 1.      ,  0.251821],\n",
       "        [ 1.      ,  0.253574],\n",
       "        [ 1.      ,  0.254884],\n",
       "        [ 1.      ,  0.255212],\n",
       "        [ 1.      ,  0.257017],\n",
       "        [ 1.      ,  0.263727],\n",
       "        [ 1.      ,  0.27276 ],\n",
       "        [ 1.      ,  0.274561],\n",
       "        [ 1.      ,  0.277261],\n",
       "        [ 1.      ,  0.278213],\n",
       "        [ 1.      ,  0.279101],\n",
       "        [ 1.      ,  0.286515],\n",
       "        [ 1.      ,  0.295434],\n",
       "        [ 1.      ,  0.297038],\n",
       "        [ 1.      ,  0.307047],\n",
       "        [ 1.      ,  0.307928],\n",
       "        [ 1.      ,  0.315044],\n",
       "        [ 1.      ,  0.333288],\n",
       "        [ 1.      ,  0.334116],\n",
       "        [ 1.      ,  0.33507 ],\n",
       "        [ 1.      ,  0.335691],\n",
       "        [ 1.      ,  0.335751],\n",
       "        [ 1.      ,  0.336647],\n",
       "        [ 1.      ,  0.33863 ],\n",
       "        [ 1.      ,  0.344584],\n",
       "        [ 1.      ,  0.357767],\n",
       "        [ 1.      ,  0.358622],\n",
       "        [ 1.      ,  0.359274],\n",
       "        [ 1.      ,  0.365746],\n",
       "        [ 1.      ,  0.378887],\n",
       "        [ 1.      ,  0.381086],\n",
       "        [ 1.      ,  0.385643],\n",
       "        [ 1.      ,  0.387125],\n",
       "        [ 1.      ,  0.394396],\n",
       "        [ 1.      ,  0.395746],\n",
       "        [ 1.      ,  0.398556],\n",
       "        [ 1.      ,  0.409932],\n",
       "        [ 1.      ,  0.41732 ],\n",
       "        [ 1.      ,  0.426863],\n",
       "        [ 1.      ,  0.427035],\n",
       "        [ 1.      ,  0.42781 ],\n",
       "        [ 1.      ,  0.429492],\n",
       "        [ 1.      ,  0.434811],\n",
       "        [ 1.      ,  0.441815],\n",
       "        [ 1.      ,  0.445674],\n",
       "        [ 1.      ,  0.452584],\n",
       "        [ 1.      ,  0.466369],\n",
       "        [ 1.      ,  0.466776],\n",
       "        [ 1.      ,  0.470557],\n",
       "        [ 1.      ,  0.480369],\n",
       "        [ 1.      ,  0.482978],\n",
       "        [ 1.      ,  0.493466],\n",
       "        [ 1.      ,  0.493829],\n",
       "        [ 1.      ,  0.495002],\n",
       "        [ 1.      ,  0.503495],\n",
       "        [ 1.      ,  0.509381],\n",
       "        [ 1.      ,  0.526171],\n",
       "        [ 1.      ,  0.52707 ],\n",
       "        [ 1.      ,  0.528301],\n",
       "        [ 1.      ,  0.53205 ],\n",
       "        [ 1.      ,  0.541196],\n",
       "        [ 1.      ,  0.549236],\n",
       "        [ 1.      ,  0.550659],\n",
       "        [ 1.      ,  0.552928],\n",
       "        [ 1.      ,  0.556486],\n",
       "        [ 1.      ,  0.567682],\n",
       "        [ 1.      ,  0.569488],\n",
       "        [ 1.      ,  0.583888],\n",
       "        [ 1.      ,  0.590902],\n",
       "        [ 1.      ,  0.599122],\n",
       "        [ 1.      ,  0.603535],\n",
       "        [ 1.      ,  0.604755],\n",
       "        [ 1.      ,  0.607492],\n",
       "        [ 1.      ,  0.616418],\n",
       "        [ 1.      ,  0.617218],\n",
       "        [ 1.      ,  0.618286],\n",
       "        [ 1.      ,  0.621523],\n",
       "        [ 1.      ,  0.63782 ],\n",
       "        [ 1.      ,  0.64827 ],\n",
       "        [ 1.      ,  0.651362],\n",
       "        [ 1.      ,  0.652565],\n",
       "        [ 1.      ,  0.656662],\n",
       "        [ 1.      ,  0.66351 ],\n",
       "        [ 1.      ,  0.665016],\n",
       "        [ 1.      ,  0.666109],\n",
       "        [ 1.      ,  0.666886],\n",
       "        [ 1.      ,  0.671279],\n",
       "        [ 1.      ,  0.674722],\n",
       "        [ 1.      ,  0.687006],\n",
       "        [ 1.      ,  0.693007],\n",
       "        [ 1.      ,  0.694221],\n",
       "        [ 1.      ,  0.69477 ],\n",
       "        [ 1.      ,  0.696081],\n",
       "        [ 1.      ,  0.70218 ],\n",
       "        [ 1.      ,  0.717733],\n",
       "        [ 1.      ,  0.721544],\n",
       "        [ 1.      ,  0.730546],\n",
       "        [ 1.      ,  0.731209],\n",
       "        [ 1.      ,  0.733165],\n",
       "        [ 1.      ,  0.736021],\n",
       "        [ 1.      ,  0.738336],\n",
       "        [ 1.      ,  0.745797],\n",
       "        [ 1.      ,  0.749442],\n",
       "        [ 1.      ,  0.76966 ],\n",
       "        [ 1.      ,  0.771184],\n",
       "        [ 1.      ,  0.777175],\n",
       "        [ 1.      ,  0.78088 ],\n",
       "        [ 1.      ,  0.792101],\n",
       "        [ 1.      ,  0.808177],\n",
       "        [ 1.      ,  0.814811],\n",
       "        [ 1.      ,  0.833735],\n",
       "        [ 1.      ,  0.844027],\n",
       "        [ 1.      ,  0.848142],\n",
       "        [ 1.      ,  0.853428],\n",
       "        [ 1.      ,  0.867082],\n",
       "        [ 1.      ,  0.869778],\n",
       "        [ 1.      ,  0.87003 ],\n",
       "        [ 1.      ,  0.87248 ],\n",
       "        [ 1.      ,  0.884739],\n",
       "        [ 1.      ,  0.886555],\n",
       "        [ 1.      ,  0.890192],\n",
       "        [ 1.      ,  0.901144],\n",
       "        [ 1.      ,  0.901225],\n",
       "        [ 1.      ,  0.908969],\n",
       "        [ 1.      ,  0.917064],\n",
       "        [ 1.      ,  0.917886],\n",
       "        [ 1.      ,  0.918769],\n",
       "        [ 1.      ,  0.918916],\n",
       "        [ 1.      ,  0.920461],\n",
       "        [ 1.      ,  0.925577],\n",
       "        [ 1.      ,  0.939368],\n",
       "        [ 1.      ,  0.947054],\n",
       "        [ 1.      ,  0.949123],\n",
       "        [ 1.      ,  0.949655],\n",
       "        [ 1.      ,  0.952523],\n",
       "        [ 1.      ,  0.958178],\n",
       "        [ 1.      ,  0.958476],\n",
       "        [ 1.      ,  0.963924],\n",
       "        [ 1.      ,  0.969788],\n",
       "        [ 1.      ,  0.972673],\n",
       "        [ 1.      ,  0.981083],\n",
       "        [ 1.      ,  0.98139 ],\n",
       "        [ 1.      ,  0.982243],\n",
       "        [ 1.      ,  0.987911],\n",
       "        [ 1.      ,  0.990947],\n",
       "        [ 1.      ,  0.993888],\n",
       "        [ 1.      ,  0.995731]])"
      ]
     },
     "execution_count": 17,
     "metadata": {},
     "output_type": "execute_result"
    }
   ],
   "source": [
    "xCopy"
   ]
  },
  {
   "cell_type": "code",
   "execution_count": 24,
   "metadata": {
    "collapsed": true
   },
   "outputs": [],
   "source": [
    "yHat = xCopy * ws"
   ]
  },
  {
   "cell_type": "code",
   "execution_count": 25,
   "metadata": {},
   "outputs": [
    {
     "data": {
      "text/plain": [
       "matrix([[ 3.03292726],\n",
       "        [ 3.03380205],\n",
       "        [ 3.06514517],\n",
       "        [ 3.07271818],\n",
       "        [ 3.07638008],\n",
       "        [ 3.08463121],\n",
       "        [ 3.08868473],\n",
       "        [ 3.10609569],\n",
       "        [ 3.12027706],\n",
       "        [ 3.1215316 ],\n",
       "        [ 3.12159094],\n",
       "        [ 3.12257084],\n",
       "        [ 3.12447299],\n",
       "        [ 3.12657688],\n",
       "        [ 3.12681762],\n",
       "        [ 3.13188155],\n",
       "        [ 3.15189822],\n",
       "        [ 3.1880442 ],\n",
       "        [ 3.195112  ],\n",
       "        [ 3.20353097],\n",
       "        [ 3.20455155],\n",
       "        [ 3.20467701],\n",
       "        [ 3.20541447],\n",
       "        [ 3.2195416 ],\n",
       "        [ 3.22264573],\n",
       "        [ 3.23286683],\n",
       "        [ 3.23372127],\n",
       "        [ 3.24221654],\n",
       "        [ 3.25838991],\n",
       "        [ 3.25926809],\n",
       "        [ 3.26772097],\n",
       "        [ 3.27286288],\n",
       "        [ 3.27294765],\n",
       "        [ 3.28268389],\n",
       "        [ 3.29055527],\n",
       "        [ 3.29907766],\n",
       "        [ 3.30565212],\n",
       "        [ 3.31027187],\n",
       "        [ 3.31620889],\n",
       "        [ 3.31633604],\n",
       "        [ 3.32970536],\n",
       "        [ 3.3414336 ],\n",
       "        [ 3.34600419],\n",
       "        [ 3.34930498],\n",
       "        [ 3.35416039],\n",
       "        [ 3.36812645],\n",
       "        [ 3.37736257],\n",
       "        [ 3.38724969],\n",
       "        [ 3.39829811],\n",
       "        [ 3.39972557],\n",
       "        [ 3.4068544 ],\n",
       "        [ 3.40925159],\n",
       "        [ 3.42785945],\n",
       "        [ 3.43466109],\n",
       "        [ 3.43763299],\n",
       "        [ 3.43985386],\n",
       "        [ 3.44040992],\n",
       "        [ 3.44346998],\n",
       "        [ 3.4548456 ],\n",
       "        [ 3.47015945],\n",
       "        [ 3.47321272],\n",
       "        [ 3.47779009],\n",
       "        [ 3.47940404],\n",
       "        [ 3.48090949],\n",
       "        [ 3.49347861],\n",
       "        [ 3.50859919],\n",
       "        [ 3.51131849],\n",
       "        [ 3.52828697],\n",
       "        [ 3.52978055],\n",
       "        [ 3.54184447],\n",
       "        [ 3.57277394],\n",
       "        [ 3.57417766],\n",
       "        [ 3.575795  ],\n",
       "        [ 3.5768478 ],\n",
       "        [ 3.57694952],\n",
       "        [ 3.57846852],\n",
       "        [ 3.58183035],\n",
       "        [ 3.5919243 ],\n",
       "        [ 3.61427374],\n",
       "        [ 3.61572324],\n",
       "        [ 3.61682859],\n",
       "        [ 3.62780072],\n",
       "        [ 3.65007895],\n",
       "        [ 3.65380697],\n",
       "        [ 3.66153255],\n",
       "        [ 3.66404502],\n",
       "        [ 3.67637171],\n",
       "        [ 3.6786604 ],\n",
       "        [ 3.68342425],\n",
       "        [ 3.70271024],\n",
       "        [ 3.71523529],\n",
       "        [ 3.73141375],\n",
       "        [ 3.73170535],\n",
       "        [ 3.73301922],\n",
       "        [ 3.73587075],\n",
       "        [ 3.74488818],\n",
       "        [ 3.75676222],\n",
       "        [ 3.76330447],\n",
       "        [ 3.77501915],\n",
       "        [ 3.79838917],\n",
       "        [ 3.79907916],\n",
       "        [ 3.80548918],\n",
       "        [ 3.82212368],\n",
       "        [ 3.82654678],\n",
       "        [ 3.84432733],\n",
       "        [ 3.84494273],\n",
       "        [ 3.84693134],\n",
       "        [ 3.86132972],\n",
       "        [ 3.87130839],\n",
       "        [ 3.89977285],\n",
       "        [ 3.90129695],\n",
       "        [ 3.90338389],\n",
       "        [ 3.90973965],\n",
       "        [ 3.92524508],\n",
       "        [ 3.93887547],\n",
       "        [ 3.94128791],\n",
       "        [ 3.9451346 ],\n",
       "        [ 3.95116656],\n",
       "        [ 3.97014739],\n",
       "        [ 3.97320914],\n",
       "        [ 3.99762179],\n",
       "        [ 4.00951278],\n",
       "        [ 4.02344833],\n",
       "        [ 4.03092979],\n",
       "        [ 4.03299809],\n",
       "        [ 4.03763819],\n",
       "        [ 4.05277064],\n",
       "        [ 4.05412689],\n",
       "        [ 4.0559375 ],\n",
       "        [ 4.06142526],\n",
       "        [ 4.08905393],\n",
       "        [ 4.10677005],\n",
       "        [ 4.11201199],\n",
       "        [ 4.11405146],\n",
       "        [ 4.1209972 ],\n",
       "        [ 4.13260677],\n",
       "        [ 4.13515992],\n",
       "        [ 4.13701291],\n",
       "        [ 4.13833018],\n",
       "        [ 4.14577773],\n",
       "        [ 4.15161473],\n",
       "        [ 4.17244007],\n",
       "        [ 4.1826137 ],\n",
       "        [ 4.18467182],\n",
       "        [ 4.18560255],\n",
       "        [ 4.18782512],\n",
       "        [ 4.1981649 ],\n",
       "        [ 4.22453225],\n",
       "        [ 4.23099312],\n",
       "        [ 4.24625442],\n",
       "        [ 4.24737842],\n",
       "        [ 4.25069447],\n",
       "        [ 4.25553631],\n",
       "        [ 4.25946098],\n",
       "        [ 4.27210978],\n",
       "        [ 4.27828923],\n",
       "        [ 4.31256527],\n",
       "        [ 4.31514894],\n",
       "        [ 4.32530562],\n",
       "        [ 4.33158679],\n",
       "        [ 4.35061   ],\n",
       "        [ 4.37786401],\n",
       "        [ 4.38911078],\n",
       "        [ 4.42119307],\n",
       "        [ 4.43864133],\n",
       "        [ 4.44561758],\n",
       "        [ 4.45457905],\n",
       "        [ 4.47772699],\n",
       "        [ 4.48229758],\n",
       "        [ 4.4827248 ],\n",
       "        [ 4.48687834],\n",
       "        [ 4.5076613 ],\n",
       "        [ 4.51074001],\n",
       "        [ 4.5169059 ],\n",
       "        [ 4.53547307],\n",
       "        [ 4.53561039],\n",
       "        [ 4.54873897],\n",
       "        [ 4.56246261],\n",
       "        [ 4.56385616],\n",
       "        [ 4.56535313],\n",
       "        [ 4.56560234],\n",
       "        [ 4.56822162],\n",
       "        [ 4.57689489],\n",
       "        [ 4.60027508],\n",
       "        [ 4.61330533],\n",
       "        [ 4.61681295],\n",
       "        [ 4.61771487],\n",
       "        [ 4.62257705],\n",
       "        [ 4.6321641 ],\n",
       "        [ 4.63266931],\n",
       "        [ 4.64190543],\n",
       "        [ 4.6518468 ],\n",
       "        [ 4.6567378 ],\n",
       "        [ 4.67099547],\n",
       "        [ 4.67151593],\n",
       "        [ 4.67296204],\n",
       "        [ 4.68257113],\n",
       "        [ 4.68771813],\n",
       "        [ 4.69270407],\n",
       "        [ 4.69582855]])"
      ]
     },
     "execution_count": 25,
     "metadata": {},
     "output_type": "execute_result"
    }
   ],
   "source": [
    "yHat"
   ]
  },
  {
   "cell_type": "code",
   "execution_count": 26,
   "metadata": {},
   "outputs": [
    {
     "data": {
      "text/plain": [
       "[<matplotlib.lines.Line2D at 0x109a5bba8>]"
      ]
     },
     "execution_count": 26,
     "metadata": {},
     "output_type": "execute_result"
    }
   ],
   "source": [
    "ax.plot(xCopy[:, 1], yHat)"
   ]
  },
  {
   "cell_type": "code",
   "execution_count": 27,
   "metadata": {},
   "outputs": [
    {
     "data": {
      "image/png": "[encoded data removed]",
      "text/plain": [
       "<matplotlib.figure.Figure at 0x1093b75f8>"
      ]
     },
     "metadata": {},
     "output_type": "display_data"
    }
   ],
   "source": [
    "plt.show()"
   ]
  },
  {
   "cell_type": "code",
   "execution_count": null,
   "metadata": {
    "collapsed": true
   },
   "outputs": [],
   "source": []
  }
 ],
 "metadata": {
  "kernelspec": {
   "display_name": "Python 3",
   "language": "python",
   "name": "python3"
  },
  "language_info": {
   "codemirror_mode": {
    "name": "ipython",
    "version": 3
   },
   "file_extension": ".py",
   "mimetype": "text/x-python",
   "name": "python",
   "nbconvert_exporter": "python",
   "pygments_lexer": "ipython3",
   "version": "3.6.1"
  }
 },
 "nbformat": 4,
 "nbformat_minor": 2
}
